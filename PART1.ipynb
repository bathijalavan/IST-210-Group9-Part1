{
 "cells": [
  {
   "cell_type": "markdown",
   "metadata": {},
   "source": [
    "# Topic Ideas\n",
    "## 1.Comparing Football Players\n",
    "## 2.The United States Military\n",
    "## 3. Artists Ranking For the Year\n",
    "\n",
    "# 1. Comparing Football Players\n",
    "### One of our ideas for a data set was the model an American football team and follow them in real time as they progressed through their season. This type of data collection would allow a true football fan to know who to draft for their fantasy football game. By looking at win rates of the team based on which players are on the field we hope to help display when a team will win or lose based purely off of who they have put onto the playing field. To do this we decided that it would be a good idea to break the team down into five important segments (tables) which would all be connected with one another through the association of the same team. Our first table would be based on games lost and would be used to keep track of the low notes of the season for the team. Looking at information like who was playing in those games, who was the team bested by and what was the difference in score. This table also has a twin in regards to games won. While the games one table will mimic the games lost table in terms of what data it collects it will have one primary difference; In the loss table the numerical values should be allowed to go negative while in the win tables the values should be locked to positive or above zero and a 0 will be used to display a tied game. Our third table is based upon the athletes themselves and will allow you to reference their name/number from the other tables which included them. This makes player names and numbers a key across all the tables since it can be used to retrieve information from other tables. In addition to this we will collect the data for wins and losses the individual player has taken part in so that we might create a dynamic variable to display each players win rate when played. This value will change over the season as more and more games are played/statistics are uploaded. Our fourth and fifth tables help to alleviate all of the data relevance on the players. Instead we believed that the difference between home and away games can make a big difference on a teams likelihood to win and this should be looked at separately from information like player win rates. All of this information is subject to the constraints laid down by the rules of football. The attributes of these tables will be restricted to whole numbers or integers since there are no half points etc. In addition rows containing information which is an entity in nature should be restricted to a labeling method based A-Z. \n",
    "\n",
    "# 2. The United States Military\n",
    "### The military plays a prominent part in United States history and has impacted the lives of millions of Americans. SInce the conclusion of the Cold War and the fall of the Soviet Union, the U.S. military has stood at the top of military might as the strongest, and one of the largest militaries in the world. The United States military has been involved in 134 armed conflicts throughout its history, leading our group to choose it as one of our potential topics. If we choose to construct our database on the United States military, we will begin to define our databases around the information that we find. We will split our data into categories (Tables) such as, the size of the Army, Navy, and Air Force, the budget of the military, and the percent of the countries GDP devoted to the military. By collecting this data, it will provide our group with a better understanding of the state of the United States military, as well as the state of the defense of our country. Unlike any other topic available for this project, the United States military is not a business, product, or a form of entertainment like a football player and their statistics. The U.S. has a prominent history and military tradition stemming from the founders of the country that makes the understanding of the relationships and various entities within the data about the military. A typical interaction regarding the entities and attributes of the military revolves around the size, branch of service, and the function or specialization of the branch of service. Every year, the budget for our armed forces changes and that can lead to both the increase or decrease in the size, the equipment, vehicles, and training lengths of the military. All data, including the age of the military, changes with each passing year making it dynamic. The goal for this project is to use attributes to classify individuals in military sectors.\n",
    "\n",
    "# 3. Artists Ranking For the Year\n",
    "### In the current era of music, upcoming and even established song artists are having an unprecedented amount of competition. Due to the rapid and relatively recent commercialization of music, song artists are constantly innovating and producing music to rise to the top of the industry. Although reaching the pinnacle of fortune, fame, and success is a wonderful dream, it is also a vague one: how does an artist know if they can truly claim the title of number one? In order to give a quantifiable answer, we first need to design a contest to measure the song artists. Due to the amount of artists in the music industry and there being yearly awards such as the grammys for music, we are going to collect data and sort them into years. For example, if Travis Scott, a rapper and producer, were an entry in our database, his accomplishments would be compared to all other artists in a particular year. Next, we must answer the question of how an artists yearly performance will be evaluated and we believe there are five major aspects that comprise an artist and their success: number of sales, amount of music produced, frequency of concerts and live appearances, their genre, and popularity. Popularity is going to be decided by the users of the database selecting one artist per genre who they thought was the most influential artist of that year, so it would be our dynamic data. What we believe makes our idea unique is that we are collecting data from already existing rankings and our database, the hall of fame, is essentially a database for the conclusions and data created by other databases. So going back to the Travis Scott example, Spotify currently has him as the 34th most listened to artist on the platform which would factor into Travis Scott’s placement in the hall of fame for 2019. Nowadays rankings focus mostly on individual songs so we thought it would be interesting to see how an artist did collectively in a given year; artists are also able to be placed next to each other and compared somewhat even if there is a difference in industry. Users can closely follow the dynamic data coming from artists doing any of the previously mentioned factors of success. In addition, users can enter their own favorite artist per genre for that year and that data can feed into the popularity ranking of the database. "
   ]
  }
 ],
 "metadata": {
  "kernelspec": {
   "display_name": "Python 3",
   "language": "python",
   "name": "python3"
  },
  "language_info": {
   "codemirror_mode": {
    "name": "ipython",
    "version": 3
   },
   "file_extension": ".py",
   "mimetype": "text/x-python",
   "name": "python",
   "nbconvert_exporter": "python",
   "pygments_lexer": "ipython3",
   "version": "3.7.3"
  }
 },
 "nbformat": 4,
 "nbformat_minor": 2
}
